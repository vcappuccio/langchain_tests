{
 "cells": [
  {
   "cell_type": "code",
   "execution_count": 18,
   "metadata": {},
   "outputs": [],
   "source": [
    "from dotenv import load_dotenv\n",
    "import os\n",
    "from langchain.chains import create_history_aware_retriever, create_retrieval_chain\n",
    "from langchain.chains.combine_documents import create_stuff_documents_chain \n",
    "from langchain_core.prompts import ChatPromptTemplate\n",
    "from langchain_chroma import Chroma\n",
    "from langchain_community.embeddings import OllamaEmbeddings\n",
    "from langchain_text_splitters import RecursiveCharacterTextSplitter\n",
    "from langchain_groq import ChatGroq\n",
    "\n",
    "# Load environment variables\n",
    "load_dotenv()\n",
    "groq_api_key = os.getenv(\"GROQ_API_KEY\")\n",
    "TAVILY_API_KEY = os.getenv(\"TAVILY_API_KEY\") \n",
    "LANGCHAIN_API_KEY = os.getenv(\"LANGCHAIN_API_KEY\")\n",
    "LANGCHAIN_ENDPOINT = os.getenv(\"LANGCHAIN_ENDPOINT\")\n",
    "os.environ[\"LANGCHAIN_PROJECT\"] = \"Multi-agent Collaboration\"\n",
    "\n"
   ]
  },
  {
   "cell_type": "code",
   "execution_count": 19,
   "metadata": {},
   "outputs": [],
   "source": [
    "# Initialize embeddings and model\n",
    "embeddings = OllamaEmbeddings(model=\"mistral\", base_url=\"http://host.docker.internal:11434\")\n",
    "model = ChatGroq(temperature=1, model_name=\"llama3-70b-8192\", api_key=groq_api_key)"
   ]
  },
  {
   "cell_type": "code",
   "execution_count": 20,
   "metadata": {},
   "outputs": [],
   "source": [
    "from langchain_core.messages import (\n",
    "    BaseMessage,\n",
    "    ToolMessage,\n",
    "    HumanMessage,\n",
    ")\n",
    "from langchain_core.prompts import ChatPromptTemplate, MessagesPlaceholder\n",
    "from langgraph.graph import END, StateGraph\n",
    "\n",
    "\n",
    "def create_agent(model, tools, system_message: str):\n",
    "    \"\"\"Create an agent.\"\"\"\n",
    "    prompt = ChatPromptTemplate.from_messages(\n",
    "        [\n",
    "            (\n",
    "                \"system\",\n",
    "                \"You are a helpful AI assistant, collaborating with other assistants.\"\n",
    "                \" Use the provided tools to progress towards answering the question.\"\n",
    "                \" If you are unable to fully answer, that's OK, another assistant with different tools \"\n",
    "                \" will help where you left off. Execute what you can to make progress.\"\n",
    "                \" If you or any of the other assistants have the final answer or deliverable,\"\n",
    "                \" prefix your response with FINAL ANSWER so the team knows to stop.\"\n",
    "                \" You have access to the following tools: {tool_names}.\\n{system_message}\",\n",
    "            ),\n",
    "            MessagesPlaceholder(variable_name=\"messages\"),\n",
    "        ]\n",
    "    )\n",
    "    prompt = prompt.partial(system_message=system_message)\n",
    "    prompt = prompt.partial(tool_names=\", \".join([tool.name for tool in tools]))\n",
    "    return prompt | model.bind_tools(tools)"
   ]
  },
  {
   "cell_type": "code",
   "execution_count": 21,
   "metadata": {},
   "outputs": [],
   "source": [
    "from langchain_core.tools import tool\n",
    "from typing import Annotated\n",
    "from langchain_experimental.utilities import PythonREPL\n",
    "from langchain_community.tools.tavily_search import TavilySearchResults\n",
    "\n",
    "tavily_tool = TavilySearchResults(max_results=5)\n",
    "\n",
    "# Warning: This executes code locally, which can be unsafe when not sandboxed\n",
    "\n",
    "repl = PythonREPL()\n",
    "\n",
    "\n",
    "@tool\n",
    "def python_repl(\n",
    "    code: Annotated[str, \"The python code to execute to generate your chart.\"]\n",
    "):\n",
    "    \"\"\"Use this to execute python code. If you want to see the output of a value,\n",
    "    you should print it out with `print(...)`. This is visible to the user.\"\"\"\n",
    "    try:\n",
    "        result = repl.run(code)\n",
    "    except BaseException as e:\n",
    "        return f\"Failed to execute. Error: {repr(e)}\"\n",
    "    result_str = f\"Successfully executed:\\n```python\\n{code}\\n```\\nStdout: {result}\"\n",
    "    return (\n",
    "        result_str + \"\\n\\nIf you have completed all tasks, respond with FINAL ANSWER.\"\n",
    "    )"
   ]
  },
  {
   "cell_type": "code",
   "execution_count": 22,
   "metadata": {},
   "outputs": [],
   "source": [
    "import operator\n",
    "from typing import Annotated, Sequence, TypedDict\n",
    "\n",
    "from langchain_openai import ChatOpenAI\n",
    "from typing_extensions import TypedDict\n",
    "\n",
    "\n",
    "# This defines the object that is passed between each node\n",
    "# in the graph. We will create different nodes for each agent and tool\n",
    "class AgentState(TypedDict):\n",
    "    messages: Annotated[Sequence[BaseMessage], operator.add]\n",
    "    sender: str"
   ]
  },
  {
   "cell_type": "code",
   "execution_count": 23,
   "metadata": {},
   "outputs": [],
   "source": [
    "import functools\n",
    "from langchain_core.messages import AIMessage\n",
    "\n",
    "\n",
    "# Helper function to create a node for a given agent\n",
    "def agent_node(state, agent, name):\n",
    "    result = agent.invoke(state)\n",
    "    # We convert the agent output into a format that is suitable to append to the global state\n",
    "    if isinstance(result, ToolMessage):\n",
    "        pass\n",
    "    else:\n",
    "        result = AIMessage(**result.dict(exclude={\"type\", \"name\"}), name=name)\n",
    "    return {\n",
    "        \"messages\": [result],\n",
    "        # Since we have a strict workflow, we can\n",
    "        # track the sender so we know who to pass to next.\n",
    "        \"sender\": name,\n",
    "    }\n",
    "\n",
    "\n",
    "# Research agent and node\n",
    "research_agent = create_agent(\n",
    "    model,\n",
    "    [tavily_tool],\n",
    "    system_message=\"You should provide accurate data for the chart_generator to use.\",\n",
    ")\n",
    "research_node = functools.partial(agent_node, agent=research_agent, name=\"Researcher\")\n",
    "\n",
    "# chart_generator\n",
    "chart_agent = create_agent(\n",
    "    model,\n",
    "    [python_repl],\n",
    "    system_message=\"Any charts you display will be visible by the user.\",\n",
    ")\n",
    "chart_node = functools.partial(agent_node, agent=chart_agent, name=\"chart_generator\")"
   ]
  },
  {
   "cell_type": "code",
   "execution_count": 24,
   "metadata": {},
   "outputs": [],
   "source": [
    "from langgraph.prebuilt import ToolNode\n",
    "\n",
    "tools = [tavily_tool, python_repl]\n",
    "tool_node = ToolNode(tools)"
   ]
  },
  {
   "cell_type": "code",
   "execution_count": 25,
   "metadata": {},
   "outputs": [],
   "source": [
    "# Either agent can decide to end\n",
    "from typing import Literal\n",
    "\n",
    "\n",
    "def router(state) -> Literal[\"call_tool\", \"__end__\", \"continue\"]:\n",
    "    # This is the router\n",
    "    messages = state[\"messages\"]\n",
    "    last_message = messages[-1]\n",
    "    if last_message.tool_calls:\n",
    "        # The previous agent is invoking a tool\n",
    "        return \"call_tool\"\n",
    "    if \"FINAL ANSWER\" in last_message.content:\n",
    "        # Any agent decided the work is done\n",
    "        return \"__end__\"\n",
    "    return \"continue\""
   ]
  },
  {
   "cell_type": "code",
   "execution_count": 26,
   "metadata": {},
   "outputs": [],
   "source": [
    "workflow = StateGraph(AgentState)\n",
    "\n",
    "workflow.add_node(\"Researcher\", research_node)\n",
    "workflow.add_node(\"chart_generator\", chart_node)\n",
    "workflow.add_node(\"call_tool\", tool_node)\n",
    "\n",
    "workflow.add_conditional_edges(\n",
    "    \"Researcher\",\n",
    "    router,\n",
    "    {\"continue\": \"chart_generator\", \"call_tool\": \"call_tool\", \"__end__\": END},\n",
    ")\n",
    "workflow.add_conditional_edges(\n",
    "    \"chart_generator\",\n",
    "    router,\n",
    "    {\"continue\": \"Researcher\", \"call_tool\": \"call_tool\", \"__end__\": END},\n",
    ")\n",
    "\n",
    "workflow.add_conditional_edges(\n",
    "    \"call_tool\",\n",
    "    # Each agent node updates the 'sender' field\n",
    "    # the tool calling node does not, meaning\n",
    "    # this edge will route back to the original agent\n",
    "    # who invoked the tool\n",
    "    lambda x: x[\"sender\"],\n",
    "    {\n",
    "        \"Researcher\": \"Researcher\",\n",
    "        \"chart_generator\": \"chart_generator\",\n",
    "    },\n",
    ")\n",
    "workflow.set_entry_point(\"Researcher\")\n",
    "graph = workflow.compile()"
   ]
  },
  {
   "cell_type": "code",
   "execution_count": 27,
   "metadata": {},
   "outputs": [
    {
     "data": {
      "image/jpeg": "[encoded data removed]",
      "text/plain": [
       "<IPython.core.display.Image object>"
      ]
     },
     "metadata": {},
     "output_type": "display_data"
    }
   ],
   "source": [
    "from IPython.display import Image, display\n",
    "\n",
    "try:\n",
    "    display(Image(graph.get_graph(xray=True).draw_mermaid_png()))\n",
    "except:\n",
    "    # This requires some extra dependencies and is optional\n",
    "    pass"
   ]
  },
  {
   "cell_type": "code",
   "execution_count": 28,
   "metadata": {},
   "outputs": [
    {
     "name": "stdout",
     "output_type": "stream",
     "text": [
      "{'Researcher': {'messages': [AIMessage(content='', additional_kwargs={'tool_calls': [{'id': 'call_531j', 'function': {'arguments': '{\"query\":\"stocks breaking out suitable short-term investment\"}', 'name': 'tavily_search_results_json'}, 'type': 'function'}]}, response_metadata={'token_usage': {'completion_time': 0.231, 'completion_tokens': 70, 'prompt_time': 0.627, 'prompt_tokens': 1080, 'queue_time': None, 'total_time': 0.858, 'total_tokens': 1150}, 'model_name': 'llama3-70b-8192', 'system_fingerprint': 'fp_753a4aecf6', 'finish_reason': 'tool_calls', 'logprobs': None}, name='Researcher', id='run-bab4e4ac-d075-496c-9147-b4514533b942-0', tool_calls=[{'name': 'tavily_search_results_json', 'args': {'query': 'stocks breaking out suitable short-term investment'}, 'id': 'call_531j'}])], 'sender': 'Researcher'}}\n",
      "----\n"
     ]
    },
    {
     "name": "stdout",
     "output_type": "stream",
     "text": [
      "{'call_tool': {'messages': [ToolMessage(content='[{\"url\": \"https://finance.yahoo.com/news/15-best-short-term-stocks-143112369.html\", \"content\": \"S&P 500\\\\nDow 30\\\\nNasdaq\\\\nRussell 2000\\\\nCrude Oil\\\\nGold\\\\nSilver\\\\nEUR/USD\\\\n10-Yr Bond\\\\nGBP/USD\\\\nUSD/JPY\\\\nBitcoin USD\\\\nCMC Crypto 200\\\\nFTSE 100\\\\nNikkei 225\\\\n15 Best Short-Term Stocks To Buy Now\\\\n While acknowledging the step back and near-term headwinds, we believe BREIT has plenty of runway to meet redemptions without being forced to liquidate assets\\\\nWe recently reduced the size of the Fund\\\\u2019s investment in Blackstone Inc. because of our expectation of a slowdown in its growth outlook. Here\\'s what the firm said:\\\\n\\\\u201cWe continued to build our position in Cloudflare, Inc. (NYSE:NET) during the quarter as the shares declined with the overall software space and the long-term risk/ reward balance became more compelling. Here\\'s what the firm said:\\\\n\\\\u201cBlackstone Inc. (NYSE:BX) was a detractor in the fourth quarter as shares sold off sharply in December after the company announced that it received redemption requests above monthly and quarterly caps in its non-traded REIT fund (BREIT) and would be limiting investor withdrawals. The analyst also raised her price target on the stock from $230 to $375.\\\\nAlign Technology, Inc. (NASDAQ:ALGN) has seen year-to-date gains of 46.05% and analysts forecast a further upside potential of 9.38% on the stock.\"}, {\"url\": \"https://www.cnbc.com/select/best-short-term-investments/\", \"content\": \"Personal Finance\\\\nSmall Business\\\\nTaxes\\\\nHelp for Low Credit Scores\\\\nInvesting\\\\nFollow Select\\\\nOur top picks of timely offers from our partners\\\\nCompare Savings Accounts\\\\nShort-term investment vehicles offer stability, low risk, liquidity and diversification \\\\u00e2\\\\u20ac\\\\u201d here are 5 of the best options to consider\\\\nThis is where to park the cash you\\'ll need within five years.\\\\n Marcus by Goldman Sachs High Yield Online Savings\\\\n4.40% APY\\\\nNone\\\\nNone\\\\nAt this time, there is no limit to the number of withdrawals or transfers you can make from your online savings account\\\\nNone\\\\nNone\\\\nNo\\\\nNo\\\\nTerms apply.\\\\n UFB Secure Savings\\\\nEarn up to 5.25%\\\\u00c2\\\\u00a0APY\\\\nNone\\\\nNone\\\\nNo max number of transactions; max transfer amounts may apply\\\\nNone\\\\nOverdraft fees may be charged, according to the terms, but a specific amount is not specified; overdraft protection service available\\\\nYes\\\\nYes\\\\nTerms apply.\\\\n Synchrony Bank CDs\\\\nFrom 2.25% to 5.50% APY\\\\nFrom 3 months to 60 months\\\\nNone\\\\nNone\\\\nThere may be an early withdrawal penalty if you withdraw funds from the principal prior to the CD maturity date (the last day of the CD term). Best short-term investments\\\\nFor all your short-term money needs, these are the five best investment vehicles:\\\\nHigh-yield savings accounts\\\\nHigh-yield savings accounts are as safe and as easy to access as your traditional brick-and-mortar savings account at a big bank, but offer a much higher return (both accounts\\' APYs are variable rates).\\\\n\"}, {\"url\": \"https://www.wallstreetzen.com/blog/best-short-term-investments/\", \"content\": \"7. High Yield Savings Account\\\\nTime period: Any\\\\nPotential returns: 3%\\\\u20135%\\\\nWho it\\\\u2019s good for: Investors with a 6 to 12-month horizon\\\\nA high-yield savings account (HYSA) is one of the best high-yield short-term investments you can make and is my pick for the best 1-year investment. 2. Short-Term Bond Funds\\\\nTime period: Any\\\\nPotential returns: 1%\\\\u20134%\\\\nWho it\\\\u2019s good for: Investors with low risk tolerance\\\\nAnother one of the best short-term investment options is putting your money in a short-term bond fund.\\\\n Money Market Account\\\\nTime period: Any\\\\nPotential returns: 1%\\\\u20134%\\\\nWho it\\\\u2019s good for: People looking for modest, steady returns\\\\nMoney market accounts (MMAs) are similar to MMMFs but are offered by banks and credit unions instead of investment firms and brokerages.\\\\n Private Credit\\\\nTime period: 1 month and up\\\\nPotential returns: 5%\\\\u201315%\\\\nWho it\\\\u2019s good for: People with a higher risk tolerance\\\\nNow we\\\\u2019re getting into some of the more interesting \\\\u2014 and complicated \\\\u2014 short-term investment options. Potential returns: 5%\\\\u201312%\\\\nWho it\\\\u2019s good for: Investors with modest capital looking for higher returns\\\\nIf you like the sound of private credit investing but don\\\\u2019t want to go through an asset management firm, peer-to-peer lending might be for you.\\\\n\"}, {\"url\": \"https://www.bankrate.com/investing/best-short-term-investments/\", \"content\": \"Best investments for short-term money\\\\nWhat makes a good short-term investment?\\\\nGood short-term investments may have many things in common, but they are typically characterized by the following three traits:\\\\nThese features mean that your money will not be at risk and will be accessible when you need to use it, which is one of the major reasons to have a short-term investment. Of course, you\\\\u2019ll want to watch out for banks that charge fees for maintaining the account or accessing ATMs, so you can minimize those.\\\\nWhere to get them: Savers would do well to comparison-shop high-yield savings accounts, because it\\\\u2019s easy to find which banks offer the highest interest rates and they are easy to set up.\\\\n Get guidance\\\\nCompare investments\\\\nGet guidance\\\\nCompare plans\\\\nGet guidance\\\\nFinding an advisor\\\\nGet guidance\\\\nLife insurance\\\\nLife insurance doesn\\\\u2019t have to be complicated. Rewards: The key reward for money market accounts is the interest you can earn on the account, and you\\\\u2019ll also have the ability to access the money on short notice if you need it.\\\\n Who are they good for?A cash management account gives you a liquid cash account that allows you to access your money quickly, and it may pay interest on your holdings.\\\\nRisks: Cash management accounts are often invested in safe low-yield money market funds, so there\\\\u2019s not a lot of risk.\\\\n\"}, {\"url\": \"https://changelly.com/blog/best-short-term-investments/\", \"content\": \"T-bills have the shortest maturities, making them highly liquid and suitable for short-term investors. Treasury notes and bonds offer longer-term investments with potentially higher yields. ... High-yield savings accounts stand out for storing cash, offering superior interest rates compared to traditional savings, which translates to faster ...\"}]', name='tavily_search_results_json', tool_call_id='call_531j')]}}\n",
      "----\n",
      "{'Researcher': {'messages': [AIMessage(content=\"Here's a script to retrieve the recent performance data and plot a line graph showing this data for the selected stocks:\\n\\n```\\nimport yfinance as yf\\nimport matplotlib.pyplot as plt\\n\\n# Define the stocks to analyze\\nstocks = ['NET', 'BX', 'ALGN']\\n\\n# Retrieve the recent performance data for each stock\\ndata = {}\\nfor stock in stocks:\\n    ticker = yf.Ticker(stock)\\n    hist = ticker.history(period='1y')\\n    data[stock] = hist['Close']\\n\\n# Plot a line graph showing the recent performance data\\nplt.figure(figsize=(10, 6))\\nfor stock in stocks:\\n    plt.plot(data[stock], label=stock)\\n\\nplt.xlabel('Date')\\nplt.ylabel('Stock Price (USD)')\\nplt.title('Recent Performance of Selected Stocks')\\nplt.legend(loc='best')\\nplt.show()\\n```\\n\\nPlease note that you need to have the `yfinance` and `matplotlib` libraries installed to run this script. You can install them using `pip install yfinance matplotlib`.\", response_metadata={'token_usage': {'completion_time': 0.677, 'completion_tokens': 208, 'prompt_time': 1.328, 'prompt_tokens': 2645, 'queue_time': None, 'total_time': 2.005, 'total_tokens': 2853}, 'model_name': 'llama3-70b-8192', 'system_fingerprint': 'fp_753a4aecf6', 'finish_reason': 'stop', 'logprobs': None}, name='Researcher', id='run-c4768027-e6da-46ed-9d4b-4c616163c280-0')], 'sender': 'Researcher'}}\n",
      "----\n",
      "{'chart_generator': {'messages': [AIMessage(content='Please call the tool with id \"python_repl\" with parameters: {\"code\": \"import yfinance as yf\\\\nimport matplotlib.pyplot as plt\\\\n\\\\n# Define the stocks to analyze\\\\nstocks = [\\'NET\\', \\'BX\\', \\'ALGN\\']\\\\n\\\\n# Retrieve the recent performance data for each stock\\\\ndata = {}\\\\nfor stock in stocks:\\\\n    ticker = yf.Ticker(stock)\\\\n    hist = ticker.history(period=\\'1y\\')\\\\n    data[stock] = hist[\\'Close\\']\\\\n\\\\n# Plot a line graph showing the recent performance data\\\\nplt.figure(figsize=(10, 6))\\\\nfor stock in stocks:\\\\n    plt.plot(data[stock], label=stock)\\\\n\\\\nplt.xlabel(\\'Date\\')\\\\nplt.ylabel(\\'Stock Price (USD)\\')\\\\nplt.title(\\'Recent Performance of Selected Stocks\\')\\\\nplt.legend(loc=\\'best\\')\\\\nplt.show()\"}', response_metadata={'token_usage': {'completion_time': 0.633, 'completion_tokens': 191, 'prompt_time': 2.732, 'prompt_tokens': 2875, 'queue_time': None, 'total_time': 3.365, 'total_tokens': 3066}, 'model_name': 'llama3-70b-8192', 'system_fingerprint': 'fp_c1a4bcec29', 'finish_reason': 'stop', 'logprobs': None}, name='chart_generator', id='run-d9476ec8-2e14-4305-a5fc-b587339088f9-0')], 'sender': 'chart_generator'}}\n",
      "----\n",
      "{'Researcher': {'messages': [AIMessage(content='Please call the tool with id \"call_531j\" with parameters: {\"query\": \"stocks breaking out suitable short-term investment\"}', response_metadata={'token_usage': {'completion_time': 0.086, 'completion_tokens': 27, 'prompt_time': 2.2640000000000002, 'prompt_tokens': 3065, 'queue_time': None, 'total_time': 2.35, 'total_tokens': 3092}, 'model_name': 'llama3-70b-8192', 'system_fingerprint': 'fp_abd29e8833', 'finish_reason': 'stop', 'logprobs': None}, name='Researcher', id='run-a08bdd1d-cf20-4db1-b18e-88a312c70a09-0')], 'sender': 'Researcher'}}\n",
      "----\n"
     ]
    }
   ],
   "source": [
    "events = graph.stream(\n",
    "    {\n",
    "        \"messages\": [\n",
    "            HumanMessage(\n",
    "                content=   \"Identify stocks that are currently breaking out and suitable for short-term investment  as of May 10, 2024, 21:50:18 UTC. After selection, code a script to retrieve their recent performance data and plot a line graph showing this data\"\n",
    "            )\n",
    "        ],\n",
    "    },\n",
    "    # Maximum number of steps to take in the graph\n",
    "    {\"recursion_limit\": 150},\n",
    ")\n",
    "for s in events:\n",
    "    print(s)\n",
    "    print(\"----\")"
   ]
  },
  {
   "cell_type": "code",
   "execution_count": null,
   "metadata": {},
   "outputs": [],
   "source": []
  }
 ],
 "metadata": {
  "kernelspec": {
   "display_name": "env",
   "language": "python",
   "name": "python3"
  },
  "language_info": {
   "codemirror_mode": {
    "name": "ipython",
    "version": 3
   },
   "file_extension": ".py",
   "mimetype": "text/x-python",
   "name": "python",
   "nbconvert_exporter": "python",
   "pygments_lexer": "ipython3",
   "version": "3.10.13"
  }
 },
 "nbformat": 4,
 "nbformat_minor": 2
}
